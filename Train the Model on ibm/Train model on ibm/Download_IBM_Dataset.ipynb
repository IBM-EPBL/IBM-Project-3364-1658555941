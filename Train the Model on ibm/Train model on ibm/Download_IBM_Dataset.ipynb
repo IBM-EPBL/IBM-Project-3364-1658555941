{
 "cells": [
  {
   "cell_type": "markdown",
   "metadata": {},
   "source": [
    "### Downloading From IBM\n",
    "### Connecting to IBM Cloud Storage to Get Model from Deployment"
   ]
  },
  {
   "cell_type": "code",
   "execution_count": 1,
   "metadata": {},
   "outputs": [],
   "source": [
    "from ibm_watson_machine_learning import APIClient\n",
    "wml_credentials = {\n",
    "    \"url\": \"https://us-south.ml.cloud.ibm.com\",\n",
    "    \"apikey\": \"5lEzTpxHNmSFRLpdmvcGyQU1nW-LyecRRhW9-TRcXwDt\"\n",
    "}\n",
    "\n",
    "client = APIClient(wml_credentials)"
   ]
  },
  {
   "cell_type": "code",
   "execution_count": 2,
   "metadata": {},
   "outputs": [],
   "source": [
    "def guid_from_space_name(client, space_name):\n",
    "    space = client.spaces.get_details()\n",
    "    return (next(item for item in space['resources'] if item['entity'][\"name\"] == space_name)['metadata']['id'])"
   ]
  },
  {
   "cell_type": "code",
   "execution_count": 3,
   "metadata": {},
   "outputs": [
    {
     "name": "stdout",
     "output_type": "stream",
     "text": [
      "Space UID :  79def21e-1863-43d9-be2a-aeab126f7021\n"
     ]
    }
   ],
   "source": [
    "space_uid = guid_from_space_name(client, 'IBM_Communication_deploy')\n",
    "print(\"Space UID : \", space_uid)"
   ]
  },
  {
   "cell_type": "code",
   "execution_count": 4,
   "metadata": {},
   "outputs": [
    {
     "data": {
      "text/plain": [
       "'SUCCESS'"
      ]
     },
     "execution_count": 4,
     "metadata": {},
     "output_type": "execute_result"
    }
   ],
   "source": [
    "client.set.default_space(space_uid)"
   ]
  },
  {
   "cell_type": "code",
   "execution_count": 7,
   "metadata": {},
   "outputs": [
    {
     "name": "stdout",
     "output_type": "stream",
     "text": [
      "Successfully saved model content to file: 'IBM_TrainedModel_Download.zip'\n"
     ]
    },
    {
     "data": {
      "text/plain": [
       "'c:\\\\Users\\\\railb\\\\Downloads\\\\ibm project\\\\Real-Time-Communication-Specially-Abled-main\\\\Real-Time-Communication-Specially-Abled-main\\\\ProjectFiles\\\\IBM_Deployment_Files/IBM_TrainedModel_Download.zip'"
      ]
     },
     "execution_count": 7,
     "metadata": {},
     "output_type": "execute_result"
    }
   ],
   "source": [
    "client.repository.download(\"b47f7cfd-60dd-4525-a3ee-daef4f3f4bc9\",\"IBM_TrainedModel_Download.tgz\")"
   ]
  },
  {
   "cell_type": "code",
   "execution_count": null,
   "metadata": {},
   "outputs": [],
   "source": []
  }
 ],
 "metadata": {
  "kernelspec": {
   "display_name": "Python 3.10.8 64-bit (microsoft store)",
   "language": "python",
   "name": "python3"
  },
  "language_info": {
   "codemirror_mode": {
    "name": "ipython",
    "version": 3
   },
   "file_extension": ".py",
   "mimetype": "text/x-python",
   "name": "python",
   "nbconvert_exporter": "python",
   "pygments_lexer": "ipython3",
   "version": "3.10.8"
  },
  "orig_nbformat": 4,
  "vscode": {
   "interpreter": {
    "hash": "6ccf739c17d9d4eb3281c14a3d2ea9081911d2b94a2e761af64ddc8b836a4a0e"
   }
  }
 },
 "nbformat": 4,
 "nbformat_minor": 2
}
